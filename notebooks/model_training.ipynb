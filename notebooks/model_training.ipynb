{
 "cells": [
  {
   "cell_type": "code",
   "execution_count": 1,
   "metadata": {},
   "outputs": [],
   "source": [
    "# Import necessary libraries and modules\n",
    "import os\n",
    "import sys\n",
    "import pandas as pd\n",
    "\n",
    "sys.path.insert(0, os.path.dirname(os.getcwd()))\n",
    "from scripts.logger import Logger\n",
    "from scripts.data_cleaning import DataCleaner\n",
    "from scripts.data_processing import DataProcessor\n",
    "from scripts.model_training import ModelTrainer\n",
    "\n",
    "# Suppress FutureWarnings\n",
    "import warnings\n",
    "warnings.simplefilter(action='ignore', category=FutureWarning)"
   ]
  },
  {
   "cell_type": "code",
   "execution_count": 2,
   "metadata": {},
   "outputs": [],
   "source": [
    "# Initialize logger\n",
    "logger = Logger('rossmann_analysis.log')"
   ]
  },
  {
   "cell_type": "code",
   "execution_count": 3,
   "metadata": {},
   "outputs": [
    {
     "name": "stderr",
     "output_type": "stream",
     "text": [
      "2024-09-24 20:42:15,908 - INFO - Loading data...\n",
      "2024-09-24 20:42:16,469 - INFO - Data loaded successfully.\n"
     ]
    }
   ],
   "source": [
    "#  Load Data\n",
    "logger.log('Loading data...')\n",
    "train_data = pd.read_csv('../data/train.csv', low_memory=False, index_col=False)\n",
    "test_data = pd.read_csv('../data/test.csv', low_memory= False, index_col=False)\n",
    "store_data = pd.read_csv('../data/store.csv', low_memory= False, index_col=False)\n",
    "\n",
    "logger.log('Data loaded successfully.')"
   ]
  },
  {
   "cell_type": "code",
   "execution_count": 4,
   "metadata": {},
   "outputs": [
    {
     "name": "stderr",
     "output_type": "stream",
     "text": [
      "2024-09-24 20:42:16,485 - INFO - Merging store data with train and test datasets.\n"
     ]
    },
    {
     "name": "stderr",
     "output_type": "stream",
     "text": [
      "2024-09-24 20:42:16,635 - INFO - Filling missing values in CompetitionDistance.\n",
      "2024-09-24 20:42:16,665 - INFO - Filling missing values in CompetitionOpenSinceMonth.\n",
      "2024-09-24 20:42:16,671 - INFO - Filling missing values in CompetitionOpenSinceYear.\n",
      "2024-09-24 20:42:16,679 - INFO - Filling missing values in Promo2SinceWeek.\n",
      "2024-09-24 20:42:16,689 - INFO - Filling missing values in Promo2SinceYear.\n",
      "2024-09-24 20:42:16,697 - INFO - Filling missing values in PromoInterval.\n",
      "2024-09-24 20:42:16,734 - INFO - Data cleaning complete.\n"
     ]
    }
   ],
   "source": [
    "# Initialize DataCleaner\n",
    "cleaner = DataCleaner(logger)\n",
    "\n",
    "# Clean the data\n",
    "train_data, test_data = cleaner.fill_missing_values(train_data, test_data, store_data)\n"
   ]
  },
  {
   "cell_type": "code",
   "execution_count": 5,
   "metadata": {},
   "outputs": [],
   "source": [
    "# Initialize DataProcessor for feature engineering and preprocessing\n",
    "processor = DataProcessor(train_data, test_data, logger)"
   ]
  },
  {
   "cell_type": "code",
   "execution_count": 6,
   "metadata": {},
   "outputs": [
    {
     "name": "stderr",
     "output_type": "stream",
     "text": [
      "2024-09-24 20:42:16,771 - INFO - Starting feature engineering for training data.\n",
      "2024-09-24 20:46:23,991 - INFO - Encoding StoreType.\n",
      "2024-09-24 20:46:24,171 - INFO - Encoding Assortment.\n",
      "2024-09-24 20:46:24,323 - INFO - Encoding StateHoliday.\n",
      "2024-09-24 20:46:24,456 - INFO - Encoding PromoInterval.\n",
      "2024-09-24 20:46:24,588 - INFO - Encoding complete.\n",
      "2024-09-24 20:46:24,804 - INFO - Scaling the numerical features.\n"
     ]
    }
   ],
   "source": [
    "# Preprocess the train data (includes encoding, dropping unnecessary columns, and scaling)\n",
    "X_train, X_test, y_train, y_test = processor.preprocess()"
   ]
  },
  {
   "cell_type": "code",
   "execution_count": 7,
   "metadata": {},
   "outputs": [
    {
     "name": "stderr",
     "output_type": "stream",
     "text": [
      "2024-09-24 20:46:25,369 - INFO - Training the Random Forest model.\n",
      "2024-09-24 20:51:16,712 - INFO - Model training complete.\n"
     ]
    }
   ],
   "source": [
    "# Train the Random Forest model\n",
    "trainer = ModelTrainer(logger)\n",
    "trainer.train_model(X_train, y_train)\n"
   ]
  },
  {
   "cell_type": "code",
   "execution_count": 8,
   "metadata": {},
   "outputs": [
    {
     "name": "stderr",
     "output_type": "stream",
     "text": [
      "2024-09-24 20:51:16,818 - INFO - Making predictions.\n"
     ]
    },
    {
     "name": "stderr",
     "output_type": "stream",
     "text": [
      "2024-09-24 20:51:51,794 - INFO - Mean Squared Error (MSE): 930022.3322820455\n",
      "2024-09-24 20:51:51,811 - INFO - Mean Absolute Error (MAE): 587.973852491915\n",
      "2024-09-24 20:51:51,826 - INFO - Root Mean Squared Error (RMSE): 964.3766547786428\n",
      "2024-09-24 20:51:51,828 - INFO - R-squared (R2): 0.9371130468314715\n",
      "2024-09-24 20:51:51,828 - INFO - Mean Squared Logarithmic Error (MSLE): 0.022263582949272998\n"
     ]
    },
    {
     "name": "stdout",
     "output_type": "stream",
     "text": [
      "Mean Squared Error (MSE): 930022.3322820455\n",
      "Mean Absolute Error (MAE): 587.973852491915\n",
      "Root Mean Squared Error (RMSE): 964.3766547786428\n",
      "R-squared (R2): 0.9371130468314715\n",
      "Mean Squared Logarithmic Error (MSLE): 0.022263582949272998\n"
     ]
    },
    {
     "data": {
      "text/plain": [
       "(np.float64(930022.3322820455),\n",
       " np.float64(587.973852491915),\n",
       " np.float64(964.3766547786428),\n",
       " 0.9371130468314715,\n",
       " np.float64(0.022263582949272998))"
      ]
     },
     "execution_count": 8,
     "metadata": {},
     "output_type": "execute_result"
    }
   ],
   "source": [
    "trainer.evaluate(X_test, y_test)\n"
   ]
  },
  {
   "cell_type": "code",
   "execution_count": 10,
   "metadata": {},
   "outputs": [
    {
     "name": "stderr",
     "output_type": "stream",
     "text": [
      "2024-09-24 20:57:59,521 - INFO - Saving the model to ../models/random_forest_model.pkl\n",
      "2024-09-24 20:58:41,551 - INFO - Model saved successfully.\n"
     ]
    }
   ],
   "source": [
    "# Save the model\n",
    "trainer.save_model('../models/random_forest_model.pkl')"
   ]
  },
  {
   "cell_type": "code",
   "execution_count": null,
   "metadata": {},
   "outputs": [],
   "source": []
  }
 ],
 "metadata": {
  "kernelspec": {
   "display_name": "week_4",
   "language": "python",
   "name": "python3"
  },
  "language_info": {
   "codemirror_mode": {
    "name": "ipython",
    "version": 3
   },
   "file_extension": ".py",
   "mimetype": "text/x-python",
   "name": "python",
   "nbconvert_exporter": "python",
   "pygments_lexer": "ipython3",
   "version": "3.10.9"
  }
 },
 "nbformat": 4,
 "nbformat_minor": 2
}
