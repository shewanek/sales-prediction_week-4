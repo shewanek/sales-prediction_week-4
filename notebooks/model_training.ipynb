{
 "cells": [
  {
   "cell_type": "code",
   "execution_count": 1,
   "metadata": {},
   "outputs": [],
   "source": [
    "# Import necessary libraries and modules\n",
    "import os\n",
    "import sys\n",
    "import pandas as pd\n",
    "\n",
    "sys.path.insert(0, os.path.dirname(os.getcwd()))\n",
    "from scripts.logger import Logger\n",
    "from scripts.data_cleaning import DataCleaner\n",
    "from scripts.data_processing import DataProcessor\n",
    "\n",
    "# Suppress FutureWarnings\n",
    "import warnings\n",
    "warnings.simplefilter(action='ignore', category=FutureWarning)"
   ]
  },
  {
   "cell_type": "code",
   "execution_count": 2,
   "metadata": {},
   "outputs": [],
   "source": [
    "# Initialize logger\n",
    "logger = Logger('rossmann_analysis.log')"
   ]
  },
  {
   "cell_type": "code",
   "execution_count": 3,
   "metadata": {},
   "outputs": [
    {
     "name": "stderr",
     "output_type": "stream",
     "text": [
      "2024-09-24 17:56:58,599 - INFO - Loading data...\n",
      "2024-09-24 17:56:59,093 - INFO - Data loaded successfully.\n"
     ]
    }
   ],
   "source": [
    "#  Load Data\n",
    "logger.log('Loading data...')\n",
    "train_data = pd.read_csv('../data/train.csv', low_memory=False, index_col=False)\n",
    "test_data = pd.read_csv('../data/test.csv', low_memory= False, index_col=False)\n",
    "store_data = pd.read_csv('../data/store.csv', low_memory= False, index_col=False)\n",
    "\n",
    "logger.log('Data loaded successfully.')"
   ]
  },
  {
   "cell_type": "code",
   "execution_count": 4,
   "metadata": {},
   "outputs": [
    {
     "name": "stderr",
     "output_type": "stream",
     "text": [
      "2024-09-24 17:56:59,110 - INFO - Merging store data with train and test datasets.\n",
      "2024-09-24 17:56:59,226 - INFO - Filling missing values in CompetitionDistance.\n",
      "2024-09-24 17:56:59,243 - INFO - Filling missing values in CompetitionOpenSinceMonth.\n",
      "2024-09-24 17:56:59,243 - INFO - Filling missing values in CompetitionOpenSinceYear.\n",
      "2024-09-24 17:56:59,259 - INFO - Filling missing values in Promo2SinceWeek.\n",
      "2024-09-24 17:56:59,259 - INFO - Filling missing values in Promo2SinceYear.\n",
      "2024-09-24 17:56:59,277 - INFO - Filling missing values in PromoInterval.\n",
      "2024-09-24 17:56:59,310 - INFO - Data cleaning complete.\n"
     ]
    }
   ],
   "source": [
    "# Initialize DataCleaner\n",
    "cleaner = DataCleaner(logger)\n",
    "\n",
    "# Clean the data\n",
    "train_data, test_data = cleaner.fill_missing_values(train_data, test_data, store_data)\n"
   ]
  },
  {
   "cell_type": "code",
   "execution_count": 5,
   "metadata": {},
   "outputs": [],
   "source": [
    "# Initialize DataProcessor for feature engineering and preprocessing\n",
    "processor = DataProcessor(train_data, test_data, logger)"
   ]
  },
  {
   "cell_type": "code",
   "execution_count": 6,
   "metadata": {},
   "outputs": [
    {
     "name": "stderr",
     "output_type": "stream",
     "text": [
      "2024-09-24 17:56:59,350 - INFO - Starting feature engineering for training data.\n",
      "2024-09-24 18:00:11,401 - INFO - Encoding StoreType.\n",
      "2024-09-24 18:00:11,521 - INFO - Encoding Assortment.\n",
      "2024-09-24 18:00:11,637 - INFO - Encoding StateHoliday.\n",
      "2024-09-24 18:00:11,739 - INFO - Encoding PromoInterval.\n",
      "2024-09-24 18:00:11,855 - INFO - Encoding complete.\n",
      "2024-09-24 18:00:12,095 - INFO - Scaling the numerical features.\n"
     ]
    }
   ],
   "source": [
    "# Preprocess the train data (includes encoding, dropping unnecessary columns, and scaling)\n",
    "X_train, X_test, y_train, y_test = processor.preprocess()"
   ]
  }
 ],
 "metadata": {
  "kernelspec": {
   "display_name": "week_4",
   "language": "python",
   "name": "python3"
  },
  "language_info": {
   "codemirror_mode": {
    "name": "ipython",
    "version": 3
   },
   "file_extension": ".py",
   "mimetype": "text/x-python",
   "name": "python",
   "nbconvert_exporter": "python",
   "pygments_lexer": "ipython3",
   "version": "3.10.9"
  }
 },
 "nbformat": 4,
 "nbformat_minor": 2
}
