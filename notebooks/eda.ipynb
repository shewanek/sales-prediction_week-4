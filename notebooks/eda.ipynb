{
 "cells": [
  {
   "cell_type": "code",
   "execution_count": 1,
   "metadata": {},
   "outputs": [],
   "source": [
    "# Import necessary libraries and modules\n",
    "import os\n",
    "import sys\n",
    "import pandas as pd\n",
    "\n",
    "sys.path.insert(0, os.path.dirname(os.getcwd()))\n",
    "from scripts.logger import Logger\n",
    "from scripts.data_cleaning import DataCleaner\n",
    "\n",
    "# Suppress FutureWarnings\n",
    "import warnings\n",
    "warnings.simplefilter(action='ignore', category=FutureWarning)"
   ]
  },
  {
   "cell_type": "code",
   "execution_count": 2,
   "metadata": {},
   "outputs": [],
   "source": [
    "# Initialize logger\n",
    "logger = Logger('rossmann_analysis.log')"
   ]
  },
  {
   "cell_type": "code",
   "execution_count": 3,
   "metadata": {},
   "outputs": [
    {
     "name": "stderr",
     "output_type": "stream",
     "text": [
      "2024-09-20 19:56:52,573 - INFO - Loading data...\n",
      "2024-09-20 19:56:53,126 - INFO - Data loaded successfully.\n"
     ]
    }
   ],
   "source": [
    "#  Load Data\n",
    "logger.log('Loading data...')\n",
    "train_data = pd.read_csv('../data/train.csv', low_memory=False, index_col=False)\n",
    "test_data = pd.read_csv('../data/test.csv', low_memory= False, index_col=False)\n",
    "store_data = pd.read_csv('../data/store.csv', low_memory= False, index_col=False)\n",
    "\n",
    "logger.log('Data loaded successfully.')"
   ]
  },
  {
   "cell_type": "code",
   "execution_count": 4,
   "metadata": {},
   "outputs": [
    {
     "name": "stderr",
     "output_type": "stream",
     "text": [
      "2024-09-20 20:00:27,652 - INFO - Cleaning data...\n",
      "2024-09-20 20:00:27,653 - INFO - Merging store data with train and test datasets.\n",
      "2024-09-20 20:00:27,653 - INFO - Merging store data with train and test datasets.\n",
      "2024-09-20 20:00:27,779 - INFO - Filling missing values in CompetitionDistance.\n",
      "2024-09-20 20:00:27,779 - INFO - Filling missing values in CompetitionDistance.\n",
      "2024-09-20 20:00:27,805 - INFO - Filling missing values in CompetitionOpenSinceMonth.\n",
      "2024-09-20 20:00:27,805 - INFO - Filling missing values in CompetitionOpenSinceMonth.\n",
      "2024-09-20 20:00:27,814 - INFO - Filling missing values in CompetitionOpenSinceYear.\n",
      "2024-09-20 20:00:27,814 - INFO - Filling missing values in CompetitionOpenSinceYear.\n",
      "2024-09-20 20:00:27,823 - INFO - Filling missing values in Promo2SinceWeek.\n",
      "2024-09-20 20:00:27,823 - INFO - Filling missing values in Promo2SinceWeek.\n",
      "2024-09-20 20:00:27,832 - INFO - Filling missing values in Promo2SinceYear.\n",
      "2024-09-20 20:00:27,832 - INFO - Filling missing values in Promo2SinceYear.\n",
      "2024-09-20 20:00:27,843 - INFO - Filling missing values in PromoInterval.\n",
      "2024-09-20 20:00:27,843 - INFO - Filling missing values in PromoInterval.\n",
      "2024-09-20 20:00:27,880 - INFO - Data cleaning complete.\n",
      "2024-09-20 20:00:27,880 - INFO - Data cleaning complete.\n",
      "2024-09-20 20:00:27,891 - INFO - Data cleaning complete.\n",
      "2024-09-20 20:00:27,891 - INFO - Data cleaning complete.\n"
     ]
    }
   ],
   "source": [
    "# Clean Data\n",
    "logger.log('Cleaning data...')\n",
    "clean_data = DataCleaner()\n",
    "train_data, test_data = clean_data.fill_missing_values(train_data, test_data, store_data)\n",
    "logger.log('Data cleaning complete.')"
   ]
  }
 ],
 "metadata": {
  "kernelspec": {
   "display_name": "week_4",
   "language": "python",
   "name": "python3"
  },
  "language_info": {
   "codemirror_mode": {
    "name": "ipython",
    "version": 3
   },
   "file_extension": ".py",
   "mimetype": "text/x-python",
   "name": "python",
   "nbconvert_exporter": "python",
   "pygments_lexer": "ipython3",
   "version": "3.10.9"
  }
 },
 "nbformat": 4,
 "nbformat_minor": 2
}
